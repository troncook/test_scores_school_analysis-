{
 "cells": [
  {
   "cell_type": "code",
   "execution_count": 2,
   "metadata": {},
   "outputs": [],
   "source": [
    "import numpy as np\n",
    "import pandas as pd\n",
    "import seaborn as sns\n",
    "import matplotlib.pyplot as plt\n",
    "import re\n",
    "import os\n",
    "import warnings\n",
    "warnings.simplefilter('ignore')"
   ]
  },
  {
   "cell_type": "code",
   "execution_count": 60,
   "metadata": {},
   "outputs": [],
   "source": [
    "#Intro/Background\n",
    "#This data comes from a local high school in an urban community. The community has industries to work \n",
    "#in but are fairly limited in the variety of them. The students are the makeup of this background. \n",
    "#The community is poor and not much higher levels of education in the population. \n",
    "#The data was cleaned well and contained few errors. \n",
    "#The data was striped of identifying characteristics and racial backgrounds were placed into categories as \n",
    "#Group A, B, C, D, E. Parental level of education is used as a proxy for income level of homes, \n",
    "#but it can’t be determined in parents have parent is using the degree or in some state of transition.\n",
    "#There is a free or standard lunch category. Whether or not the student took a prep course for testing \n",
    "#which was offered at the school. They may have taken a prep course outside of this, \n",
    "#but it is not included in the data. \n",
    "#The test was taken by all students because the school makes in a big point of interest \n",
    "#to make sure every student takes the test. The school district is graded on how \n",
    "#many students take the test so it will go great lengths to make sure the students will take the test. \n",
    "#The data came from the school, so it was cleaned before I received it. \n",
    "#While it was striped of certain things like names and other identifying marks,\n",
    "#it was also cleaned of outliers for the most part. \n"
   ]
  },
  {
   "cell_type": "code",
   "execution_count": 3,
   "metadata": {},
   "outputs": [],
   "source": [
    "passmark = 50"
   ]
  },
  {
   "cell_type": "code",
   "execution_count": 4,
   "metadata": {},
   "outputs": [],
   "source": [
    "df = pd.read_csv(\"ssh.csv\")"
   ]
  },
  {
   "cell_type": "code",
   "execution_count": 5,
   "metadata": {},
   "outputs": [
    {
     "data": {
      "text/html": [
       "<div>\n",
       "<style scoped>\n",
       "    .dataframe tbody tr th:only-of-type {\n",
       "        vertical-align: middle;\n",
       "    }\n",
       "\n",
       "    .dataframe tbody tr th {\n",
       "        vertical-align: top;\n",
       "    }\n",
       "\n",
       "    .dataframe thead th {\n",
       "        text-align: right;\n",
       "    }\n",
       "</style>\n",
       "<table border=\"1\" class=\"dataframe\">\n",
       "  <thead>\n",
       "    <tr style=\"text-align: right;\">\n",
       "      <th></th>\n",
       "      <th>gender</th>\n",
       "      <th>race/ethnicity</th>\n",
       "      <th>parental level of education</th>\n",
       "      <th>lunch</th>\n",
       "      <th>test preparation course</th>\n",
       "      <th>math score</th>\n",
       "      <th>reading score</th>\n",
       "      <th>writing score</th>\n",
       "    </tr>\n",
       "  </thead>\n",
       "  <tbody>\n",
       "    <tr>\n",
       "      <th>0</th>\n",
       "      <td>female</td>\n",
       "      <td>group B</td>\n",
       "      <td>bachelor's degree</td>\n",
       "      <td>standard</td>\n",
       "      <td>none</td>\n",
       "      <td>72</td>\n",
       "      <td>72</td>\n",
       "      <td>74</td>\n",
       "    </tr>\n",
       "    <tr>\n",
       "      <th>1</th>\n",
       "      <td>female</td>\n",
       "      <td>group C</td>\n",
       "      <td>some college</td>\n",
       "      <td>standard</td>\n",
       "      <td>completed</td>\n",
       "      <td>69</td>\n",
       "      <td>90</td>\n",
       "      <td>88</td>\n",
       "    </tr>\n",
       "    <tr>\n",
       "      <th>2</th>\n",
       "      <td>female</td>\n",
       "      <td>group B</td>\n",
       "      <td>master's degree</td>\n",
       "      <td>standard</td>\n",
       "      <td>none</td>\n",
       "      <td>90</td>\n",
       "      <td>95</td>\n",
       "      <td>93</td>\n",
       "    </tr>\n",
       "    <tr>\n",
       "      <th>3</th>\n",
       "      <td>male</td>\n",
       "      <td>group A</td>\n",
       "      <td>associate's degree</td>\n",
       "      <td>free/reduced</td>\n",
       "      <td>none</td>\n",
       "      <td>47</td>\n",
       "      <td>57</td>\n",
       "      <td>44</td>\n",
       "    </tr>\n",
       "    <tr>\n",
       "      <th>4</th>\n",
       "      <td>male</td>\n",
       "      <td>group C</td>\n",
       "      <td>some college</td>\n",
       "      <td>standard</td>\n",
       "      <td>none</td>\n",
       "      <td>76</td>\n",
       "      <td>78</td>\n",
       "      <td>75</td>\n",
       "    </tr>\n",
       "  </tbody>\n",
       "</table>\n",
       "</div>"
      ],
      "text/plain": [
       "   gender race/ethnicity parental level of education         lunch  \\\n",
       "0  female        group B           bachelor's degree      standard   \n",
       "1  female        group C                some college      standard   \n",
       "2  female        group B             master's degree      standard   \n",
       "3    male        group A          associate's degree  free/reduced   \n",
       "4    male        group C                some college      standard   \n",
       "\n",
       "  test preparation course  math score  reading score  writing score  \n",
       "0                    none          72             72             74  \n",
       "1               completed          69             90             88  \n",
       "2                    none          90             95             93  \n",
       "3                    none          47             57             44  \n",
       "4                    none          76             78             75  "
      ]
     },
     "execution_count": 5,
     "metadata": {},
     "output_type": "execute_result"
    }
   ],
   "source": [
    "df.head()"
   ]
  },
  {
   "cell_type": "code",
   "execution_count": 6,
   "metadata": {},
   "outputs": [
    {
     "name": "stdout",
     "output_type": "stream",
     "text": [
      "(1115, 8)\n"
     ]
    }
   ],
   "source": [
    "print (df.shape)"
   ]
  },
  {
   "cell_type": "code",
   "execution_count": 7,
   "metadata": {},
   "outputs": [
    {
     "data": {
      "text/html": [
       "<div>\n",
       "<style scoped>\n",
       "    .dataframe tbody tr th:only-of-type {\n",
       "        vertical-align: middle;\n",
       "    }\n",
       "\n",
       "    .dataframe tbody tr th {\n",
       "        vertical-align: top;\n",
       "    }\n",
       "\n",
       "    .dataframe thead th {\n",
       "        text-align: right;\n",
       "    }\n",
       "</style>\n",
       "<table border=\"1\" class=\"dataframe\">\n",
       "  <thead>\n",
       "    <tr style=\"text-align: right;\">\n",
       "      <th></th>\n",
       "      <th>math score</th>\n",
       "      <th>reading score</th>\n",
       "      <th>writing score</th>\n",
       "    </tr>\n",
       "  </thead>\n",
       "  <tbody>\n",
       "    <tr>\n",
       "      <th>count</th>\n",
       "      <td>1115.000000</td>\n",
       "      <td>1115.000000</td>\n",
       "      <td>1115.000000</td>\n",
       "    </tr>\n",
       "    <tr>\n",
       "      <th>mean</th>\n",
       "      <td>66.155157</td>\n",
       "      <td>69.268161</td>\n",
       "      <td>68.143498</td>\n",
       "    </tr>\n",
       "    <tr>\n",
       "      <th>std</th>\n",
       "      <td>15.150892</td>\n",
       "      <td>14.639069</td>\n",
       "      <td>15.078461</td>\n",
       "    </tr>\n",
       "    <tr>\n",
       "      <th>min</th>\n",
       "      <td>0.000000</td>\n",
       "      <td>17.000000</td>\n",
       "      <td>10.000000</td>\n",
       "    </tr>\n",
       "    <tr>\n",
       "      <th>25%</th>\n",
       "      <td>57.000000</td>\n",
       "      <td>59.000000</td>\n",
       "      <td>58.000000</td>\n",
       "    </tr>\n",
       "    <tr>\n",
       "      <th>50%</th>\n",
       "      <td>66.000000</td>\n",
       "      <td>70.000000</td>\n",
       "      <td>69.000000</td>\n",
       "    </tr>\n",
       "    <tr>\n",
       "      <th>75%</th>\n",
       "      <td>77.000000</td>\n",
       "      <td>80.000000</td>\n",
       "      <td>78.000000</td>\n",
       "    </tr>\n",
       "    <tr>\n",
       "      <th>max</th>\n",
       "      <td>100.000000</td>\n",
       "      <td>100.000000</td>\n",
       "      <td>100.000000</td>\n",
       "    </tr>\n",
       "  </tbody>\n",
       "</table>\n",
       "</div>"
      ],
      "text/plain": [
       "        math score  reading score  writing score\n",
       "count  1115.000000    1115.000000    1115.000000\n",
       "mean     66.155157      69.268161      68.143498\n",
       "std      15.150892      14.639069      15.078461\n",
       "min       0.000000      17.000000      10.000000\n",
       "25%      57.000000      59.000000      58.000000\n",
       "50%      66.000000      70.000000      69.000000\n",
       "75%      77.000000      80.000000      78.000000\n",
       "max     100.000000     100.000000     100.000000"
      ]
     },
     "execution_count": 7,
     "metadata": {},
     "output_type": "execute_result"
    }
   ],
   "source": [
    "df.describe()"
   ]
  },
  {
   "cell_type": "code",
   "execution_count": 8,
   "metadata": {},
   "outputs": [
    {
     "data": {
      "text/plain": [
       "gender                         0\n",
       "race/ethnicity                 0\n",
       "parental level of education    0\n",
       "lunch                          0\n",
       "test preparation course        0\n",
       "math score                     0\n",
       "reading score                  0\n",
       "writing score                  0\n",
       "dtype: int64"
      ]
     },
     "execution_count": 8,
     "metadata": {},
     "output_type": "execute_result"
    }
   ],
   "source": [
    "df.isnull().sum()"
   ]
  },
  {
   "cell_type": "code",
   "execution_count": 9,
   "metadata": {},
   "outputs": [
    {
     "data": {
      "text/plain": [
       "P    964\n",
       "F    151\n",
       "Name: Math_PassStatus, dtype: int64"
      ]
     },
     "execution_count": 9,
     "metadata": {},
     "output_type": "execute_result"
    }
   ],
   "source": [
    "###Number of students who passed math exam###\n",
    "df['Math_PassStatus'] = np.where(df['math score']<passmark, 'F', 'P')\n",
    "df.Math_PassStatus.value_counts()"
   ]
  },
  {
   "cell_type": "code",
   "execution_count": 10,
   "metadata": {},
   "outputs": [
    {
     "data": {
      "image/png": "[encoded data removed]",
      "text/plain": [
       "<Figure size 432x288 with 1 Axes>"
      ]
     },
     "metadata": {
      "needs_background": "light"
     },
     "output_type": "display_data"
    }
   ],
   "source": [
    "p = sns.countplot(x='parental level of education', data = df, hue='Math_PassStatus', palette='bright')\n",
    "_ = plt.setp(p.get_xticklabels(), rotation=90) "
   ]
  },
  {
   "cell_type": "code",
   "execution_count": 11,
   "metadata": {},
   "outputs": [
    {
     "data": {
      "text/plain": [
       "P    1016\n",
       "F      99\n",
       "Name: Reading_PassStatus, dtype: int64"
      ]
     },
     "execution_count": 11,
     "metadata": {},
     "output_type": "execute_result"
    }
   ],
   "source": [
    "###How many passed the reading exam###\n",
    "df['Reading_PassStatus'] = np.where(df['reading score']<passmark, 'F', 'P')\n",
    "df.Reading_PassStatus.value_counts()"
   ]
  },
  {
   "cell_type": "code",
   "execution_count": 12,
   "metadata": {},
   "outputs": [
    {
     "data": {
      "image/png": "[encoded data removed]",
      "text/plain": [
       "<Figure size 432x288 with 1 Axes>"
      ]
     },
     "metadata": {
      "needs_background": "light"
     },
     "output_type": "display_data"
    }
   ],
   "source": [
    "p = sns.countplot(x='parental level of education', data = df, hue='Reading_PassStatus', palette='bright')\n",
    "_ = plt.setp(p.get_xticklabels(), rotation=90) "
   ]
  },
  {
   "cell_type": "code",
   "execution_count": 13,
   "metadata": {},
   "outputs": [
    {
     "data": {
      "text/plain": [
       "P    992\n",
       "F    123\n",
       "Name: Writing_PassStatus, dtype: int64"
      ]
     },
     "execution_count": 13,
     "metadata": {},
     "output_type": "execute_result"
    }
   ],
   "source": [
    "df['Writing_PassStatus'] = np.where(df['writing score']<passmark, 'F', 'P')\n",
    "df.Writing_PassStatus.value_counts()"
   ]
  },
  {
   "cell_type": "code",
   "execution_count": 14,
   "metadata": {},
   "outputs": [
    {
     "data": {
      "image/png": "[encoded data removed]",
      "text/plain": [
       "<Figure size 432x288 with 1 Axes>"
      ]
     },
     "metadata": {
      "needs_background": "light"
     },
     "output_type": "display_data"
    }
   ],
   "source": [
    "###How many students passed writing exam###\n",
    "p = sns.countplot(x='parental level of education', data = df, hue='Writing_PassStatus', palette='bright')\n",
    "_ = plt.setp(p.get_xticklabels(), rotation=90) "
   ]
  },
  {
   "cell_type": "code",
   "execution_count": 15,
   "metadata": {},
   "outputs": [
    {
     "data": {
      "text/plain": [
       "P    911\n",
       "F    204\n",
       "Name: OverAll_PassStatus, dtype: int64"
      ]
     },
     "execution_count": 15,
     "metadata": {},
     "output_type": "execute_result"
    }
   ],
   "source": [
    "##How many passed all subjects###\n",
    "df['OverAll_PassStatus'] = df.apply(lambda x : 'F' if x['Math_PassStatus'] == 'F' or \n",
    "                                    x['Reading_PassStatus'] == 'F' or x['Writing_PassStatus'] == 'F' else 'P', axis =1)\n",
    "\n",
    "df.OverAll_PassStatus.value_counts()"
   ]
  },
  {
   "cell_type": "code",
   "execution_count": 16,
   "metadata": {},
   "outputs": [
    {
     "data": {
      "image/png": "[encoded data removed]",
      "text/plain": [
       "<Figure size 432x288 with 1 Axes>"
      ]
     },
     "metadata": {
      "needs_background": "light"
     },
     "output_type": "display_data"
    }
   ],
   "source": [
    "p = sns.countplot(x='parental level of education', data = df, hue='OverAll_PassStatus', palette='bright')\n",
    "_ = plt.setp(p.get_xticklabels(), rotation=90) "
   ]
  },
  {
   "cell_type": "code",
   "execution_count": 19,
   "metadata": {},
   "outputs": [],
   "source": [
    "df['Total_Marks'] = df['math score']+df['reading score']+df['writing score']\n",
    "df['Percentage'] = df['Total_Marks']/3"
   ]
  },
  {
   "cell_type": "code",
   "execution_count": 21,
   "metadata": {},
   "outputs": [
    {
     "data": {
      "text/plain": [
       "B    289\n",
       "C    285\n",
       "A    225\n",
       "F    204\n",
       "D    112\n",
       "Name: Grade, dtype: int64"
      ]
     },
     "execution_count": 21,
     "metadata": {},
     "output_type": "execute_result"
    }
   ],
   "source": [
    "### Let us assign the grades\n",
    "#Grading\n",
    "#above 80 = A Grade\n",
    "#70 to 80 = B Grade\n",
    "#60 to 70 = C Grade\n",
    "#50 to 60 = D Grade\n",
    "#40 to 50 = E Grade\n",
    "#below 40 = F Grade ( means Fail )\n",
    "###\n",
    "\n",
    "def GetGrade(Percentage, OverAll_PassStatus):\n",
    "    if ( OverAll_PassStatus == 'F'):\n",
    "        return 'F'    \n",
    "    if ( Percentage >= 80 ):\n",
    "        return 'A'\n",
    "    if ( Percentage >= 70):\n",
    "        return 'B'\n",
    "    if ( Percentage >= 60):\n",
    "        return 'C'\n",
    "    if ( Percentage >= 50):\n",
    "        return 'D'\n",
    "    else: \n",
    "        return 'F'\n",
    "\n",
    "df['Grade'] = df.apply(lambda x : GetGrade(x['Percentage'], x['OverAll_PassStatus']), axis=1)\n",
    "\n",
    "df.Grade.value_counts()"
   ]
  },
  {
   "cell_type": "code",
   "execution_count": 23,
   "metadata": {},
   "outputs": [
    {
     "data": {
      "image/png": "[encoded data removed]",
      "text/plain": [
       "<Figure size 432x288 with 1 Axes>"
      ]
     },
     "metadata": {
      "needs_background": "light"
     },
     "output_type": "display_data"
    }
   ],
   "source": [
    "##plot grades in descending order\n",
    "sns.countplot(x=\"Grade\", data = df, order=['A','B','C','D','F'],  palette=\"muted\")\n",
    "plt.show()"
   ]
  },
  {
   "cell_type": "code",
   "execution_count": 24,
   "metadata": {},
   "outputs": [
    {
     "data": {
      "image/png": "[encoded data removed]",
      "text/plain": [
       "<Figure size 432x288 with 1 Axes>"
      ]
     },
     "metadata": {
      "needs_background": "light"
     },
     "output_type": "display_data"
    }
   ],
   "source": [
    "p = sns.countplot(x='parental level of education', data = df, hue='Grade', palette='bright')\n",
    "_ = plt.setp(p.get_xticklabels(), rotation=90) "
   ]
  },
  {
   "cell_type": "code",
   "execution_count": 25,
   "metadata": {},
   "outputs": [],
   "source": [
    "sp_data = df"
   ]
  },
  {
   "cell_type": "code",
   "execution_count": 26,
   "metadata": {},
   "outputs": [
    {
     "name": "stdout",
     "output_type": "stream",
     "text": [
      "Unique values in 'gender' column are ['female' 'male']\n",
      "Unique values in 'race/ethnicity' column are ['group B' 'group C' 'group A' 'group D' 'group E']\n",
      "Unique values in 'parental level of education' column are [\"bachelor's degree\" 'some college' \"master's degree\" \"associate's degree\"\n",
      " 'high school' 'some high school']\n",
      "Unique values in 'lunch' column are ['standard' 'free/reduced']\n",
      "Unique values in 'test preparation course' column are ['none' 'completed']\n",
      "Unique values in 'math score' column are [ 72  69  90  47  76  71  88  40  64  38  58  65  78  50  18  46  54  66\n",
      "  44  74  73  67  70  62  63  56  97  81  75  57  55  53  59  82  77  33\n",
      "  52   0  79  39  45  60  61  41  49  30  80  42  27  43  68  85  98  87\n",
      "  51  99  84  91  83  89  22 100  96  94  48  35  34  86  92  37  28  24\n",
      "  26  95  36  29  32  93  19  23   8]\n",
      "Unique values in 'reading score' column are [ 72  90  95  57  78  83  43  64  60  54  52  81  53  75  89  32  42  58\n",
      "  69  73  71  74  70  65  87  56  61  84  55  44  41  85  59  17  39  80\n",
      "  37  63  51  49  26  68  45  47  86  34  79  66  67  91 100  76  77  82\n",
      "  92  93  62  88  50  28  48  46  23  38  94  97  99  31  96  24  29  40]\n",
      "Unique values in 'writing score' column are [ 74  88  93  44  75  78  92  39  67  50  52  43  73  70  58  86  28  46\n",
      "  61  63  53  80  72  55  65  38  82  79  83  59  57  54  68  66  62  76\n",
      "  48  42  87  49  10  34  71  37  56  41  22  81  45  36  89  47  90 100\n",
      "  64  98  51  40  84  69  33  60  85  91  77  27  94  95  19  35  32  96\n",
      "  97  99  15  30  23]\n",
      "Unique values in 'Math_PassStatus' column are ['P' 'F']\n",
      "Unique values in 'Reading_PassStatus' column are ['P' 'F']\n",
      "Unique values in 'Writing_PassStatus' column are ['P' 'F']\n",
      "Unique values in 'OverAll_PassStatus' column are ['P' 'F']\n",
      "Unique values in 'Total_Marks' column are [218 247 278 148 229 232 275 122 195 164 135 219 220 161 222 263  78 134\n",
      " 173 198 210 151 215 225 178 211 205 207 217 189 193 120 266 241 238 253\n",
      " 170 199 176 190 160 182 213 248 156 214 139 242 117 175  27 112 192 119\n",
      " 206 194 181 140 174 123 239 146 115 235 216  97 221 138 257 187 265 274\n",
      " 197 287 264 166 154 163 299 260 272 236 268 255 130 231 240 228 201 185\n",
      " 147  94 224 293 212 150 180 234 296 155 246 200 259 158 184 297 204 196\n",
      " 145 252 168 162 153 233 237 223 142  90 167 245 191 277 131 249 157 244\n",
      " 227 282 149 270 186 226 129 267 230 136 183 202 250 203  70 171 271 143\n",
      "  89 177 179  93 188 280 132 124 269 169 165 256 172 114 289 300 258 262\n",
      "  95 209 243 273 276 261 208 104 292 279 291  69  88 251 152 144 159 113\n",
      " 254 116 127 126 118 141 137 103 290 281 288  92 133  55]\n",
      "Unique values in 'Percentage' column are [ 72.66666667  82.33333333  92.66666667  49.33333333  76.33333333\n",
      "  77.33333333  91.66666667  40.66666667  65.          54.66666667\n",
      "  45.          73.          73.33333333  53.66666667  74.\n",
      "  87.66666667  26.          44.66666667  57.66666667  66.\n",
      "  70.          50.33333333  71.66666667  75.          59.33333333\n",
      "  70.33333333  68.33333333  69.          72.33333333  63.\n",
      "  64.33333333  40.          88.66666667  80.33333333  79.33333333\n",
      "  84.33333333  56.66666667  66.33333333  58.66666667  63.33333333\n",
      "  53.33333333  60.66666667  71.          82.66666667  52.\n",
      "  71.33333333  46.33333333  80.66666667  39.          58.33333333\n",
      "   9.          37.33333333  64.          39.66666667  68.66666667\n",
      "  64.66666667  60.33333333  46.66666667  58.          41.\n",
      "  79.66666667  48.66666667  38.33333333  78.33333333  72.\n",
      "  32.33333333  73.66666667  46.          85.66666667  62.33333333\n",
      "  88.33333333  91.33333333  65.66666667  95.66666667  88.\n",
      "  55.33333333  51.33333333  54.33333333  99.66666667  86.66666667\n",
      "  90.66666667  78.66666667  89.33333333  85.          43.33333333\n",
      "  77.          80.          76.          67.          61.66666667\n",
      "  49.          31.33333333  74.66666667  97.66666667  70.66666667\n",
      "  50.          60.          78.          98.66666667  51.66666667\n",
      "  82.          66.66666667  86.33333333  52.66666667  61.33333333\n",
      "  99.          68.          65.33333333  48.33333333  84.\n",
      "  56.          54.          51.          77.66666667  79.\n",
      "  74.33333333  47.33333333  30.          55.66666667  81.66666667\n",
      "  63.66666667  92.33333333  43.66666667  83.          52.33333333\n",
      "  81.33333333  75.66666667  94.          49.66666667  90.\n",
      "  62.          75.33333333  43.          89.          76.66666667\n",
      "  45.33333333  61.          67.33333333  83.33333333  67.66666667\n",
      "  23.33333333  57.          90.33333333  47.66666667  29.66666667\n",
      "  59.          59.66666667  31.          62.66666667  93.33333333\n",
      "  44.          41.33333333  89.66666667  56.33333333  55.\n",
      "  85.33333333  57.33333333  38.          96.33333333 100.\n",
      "  86.          87.33333333  31.66666667  69.66666667  81.\n",
      "  91.          92.          87.          69.33333333  34.66666667\n",
      "  97.33333333  93.          97.          23.          29.33333333\n",
      "  83.66666667  50.66666667  48.          53.          37.66666667\n",
      "  84.66666667  38.66666667  42.33333333  42.          39.33333333\n",
      "  47.          45.66666667  34.33333333  96.66666667  93.66666667\n",
      "  96.          30.66666667  44.33333333  18.33333333]\n",
      "Unique values in 'Grade' column are ['B' 'A' 'F' 'C' 'D']\n"
     ]
    }
   ],
   "source": [
    "for column in (sp_data.columns.values):\n",
    "    if (sp_data[column].dtype) != np.dtype('int'):\n",
    "        print (\"Unique values in '\"+ column + \"' column are \", end='')\n",
    "        print (sp_data[column].unique())"
   ]
  },
  {
   "cell_type": "code",
   "execution_count": 27,
   "metadata": {},
   "outputs": [
    {
     "name": "stdout",
     "output_type": "stream",
     "text": [
      "female    574\n",
      "male      541\n",
      "Name: gender, dtype: int64\n"
     ]
    },
    {
     "data": {
      "image/png": "[encoded data removed]",
      "text/plain": [
       "<Figure size 432x288 with 1 Axes>"
      ]
     },
     "metadata": {
      "needs_background": "light"
     },
     "output_type": "display_data"
    }
   ],
   "source": [
    "print (sp_data['gender'].value_counts())\n",
    "sns.countplot(x='gender', data=sp_data);"
   ]
  },
  {
   "cell_type": "code",
   "execution_count": 28,
   "metadata": {},
   "outputs": [
    {
     "name": "stdout",
     "output_type": "stream",
     "text": [
      "group C    348\n",
      "group D    295\n",
      "group B    211\n",
      "group E    161\n",
      "group A    100\n",
      "Name: race/ethnicity, dtype: int64\n"
     ]
    },
    {
     "data": {
      "image/png": "[encoded data removed]",
      "text/plain": [
       "<Figure size 432x288 with 1 Axes>"
      ]
     },
     "metadata": {
      "needs_background": "light"
     },
     "output_type": "display_data"
    }
   ],
   "source": [
    "#Racial Information \n",
    "print (sp_data['race/ethnicity'].value_counts())\n",
    "ax = sns.countplot(x='race/ethnicity', data=sp_data, order= ['group A', 'group B', 'group C', 'group D', 'group E'])\n",
    "ax.set_xticklabels(ax.get_xticklabels(), rotation=40, ha=\"right\")\n",
    "plt.tight_layout()"
   ]
  },
  {
   "cell_type": "code",
   "execution_count": 29,
   "metadata": {},
   "outputs": [
    {
     "name": "stdout",
     "output_type": "stream",
     "text": [
      "some college          249\n",
      "associate's degree    242\n",
      "high school           225\n",
      "some high school      206\n",
      "bachelor's degree     129\n",
      "master's degree        64\n",
      "Name: parental level of education, dtype: int64\n"
     ]
    },
    {
     "data": {
      "image/png": "[encoded data removed]",
      "text/plain": [
       "<Figure size 432x288 with 1 Axes>"
      ]
     },
     "metadata": {
      "needs_background": "light"
     },
     "output_type": "display_data"
    }
   ],
   "source": [
    "#Parental Education\n",
    "print (sp_data['parental level of education'].value_counts())\n",
    "ax = sns.countplot(x='parental level of education', data=sp_data, order=['some high school', 'high school', 'associate\\'s degree', 'some college',\n",
    "                                                                         \"bachelor's degree\",\"master's degree\"])\n",
    "ax.set_xticklabels(ax.get_xticklabels(), rotation=40, ha=\"right\")\n",
    "plt.tight_layout()"
   ]
  },
  {
   "cell_type": "code",
   "execution_count": 30,
   "metadata": {},
   "outputs": [
    {
     "name": "stdout",
     "output_type": "stream",
     "text": [
      "standard        710\n",
      "free/reduced    405\n",
      "Name: lunch, dtype: int64\n"
     ]
    },
    {
     "data": {
      "image/png": "[encoded data removed]",
      "text/plain": [
       "<Figure size 432x288 with 1 Axes>"
      ]
     },
     "metadata": {
      "needs_background": "light"
     },
     "output_type": "display_data"
    }
   ],
   "source": [
    "#Lunch free or not\n",
    "print (sp_data['lunch'].value_counts())\n",
    "sns.countplot(x='lunch', data=sp_data);"
   ]
  },
  {
   "cell_type": "code",
   "execution_count": 31,
   "metadata": {},
   "outputs": [
    {
     "data": {
      "image/png": "[encoded data removed]",
      "text/plain": [
       "<Figure size 432x288 with 1 Axes>"
      ]
     },
     "metadata": {
      "needs_background": "light"
     },
     "output_type": "display_data"
    }
   ],
   "source": [
    "#If they took exam prep course\n",
    "sns.countplot(x='test preparation course', data=sp_data);"
   ]
  },
  {
   "cell_type": "code",
   "execution_count": 32,
   "metadata": {},
   "outputs": [
    {
     "data": {
      "image/png": "[encoded data removed]",
      "text/plain": [
       "<Figure size 432x288 with 1 Axes>"
      ]
     },
     "metadata": {
      "needs_background": "light"
     },
     "output_type": "display_data"
    }
   ],
   "source": [
    "sns.barplot(x='gender',y='math score',data=sp_data);"
   ]
  },
  {
   "cell_type": "code",
   "execution_count": 33,
   "metadata": {},
   "outputs": [
    {
     "data": {
      "text/html": [
       "<div>\n",
       "<style scoped>\n",
       "    .dataframe tbody tr th:only-of-type {\n",
       "        vertical-align: middle;\n",
       "    }\n",
       "\n",
       "    .dataframe tbody tr th {\n",
       "        vertical-align: top;\n",
       "    }\n",
       "\n",
       "    .dataframe thead th {\n",
       "        text-align: right;\n",
       "    }\n",
       "</style>\n",
       "<table border=\"1\" class=\"dataframe\">\n",
       "  <thead>\n",
       "    <tr style=\"text-align: right;\">\n",
       "      <th></th>\n",
       "      <th>math score</th>\n",
       "      <th>reading score</th>\n",
       "      <th>writing score</th>\n",
       "    </tr>\n",
       "  </thead>\n",
       "  <tbody>\n",
       "    <tr>\n",
       "      <th>count</th>\n",
       "      <td>1115.000000</td>\n",
       "      <td>1115.000000</td>\n",
       "      <td>1115.000000</td>\n",
       "    </tr>\n",
       "    <tr>\n",
       "      <th>mean</th>\n",
       "      <td>66.155157</td>\n",
       "      <td>69.268161</td>\n",
       "      <td>68.143498</td>\n",
       "    </tr>\n",
       "    <tr>\n",
       "      <th>std</th>\n",
       "      <td>15.150892</td>\n",
       "      <td>14.639069</td>\n",
       "      <td>15.078461</td>\n",
       "    </tr>\n",
       "    <tr>\n",
       "      <th>min</th>\n",
       "      <td>0.000000</td>\n",
       "      <td>17.000000</td>\n",
       "      <td>10.000000</td>\n",
       "    </tr>\n",
       "    <tr>\n",
       "      <th>25%</th>\n",
       "      <td>57.000000</td>\n",
       "      <td>59.000000</td>\n",
       "      <td>58.000000</td>\n",
       "    </tr>\n",
       "    <tr>\n",
       "      <th>50%</th>\n",
       "      <td>66.000000</td>\n",
       "      <td>70.000000</td>\n",
       "      <td>69.000000</td>\n",
       "    </tr>\n",
       "    <tr>\n",
       "      <th>75%</th>\n",
       "      <td>77.000000</td>\n",
       "      <td>80.000000</td>\n",
       "      <td>78.000000</td>\n",
       "    </tr>\n",
       "    <tr>\n",
       "      <th>max</th>\n",
       "      <td>100.000000</td>\n",
       "      <td>100.000000</td>\n",
       "      <td>100.000000</td>\n",
       "    </tr>\n",
       "  </tbody>\n",
       "</table>\n",
       "</div>"
      ],
      "text/plain": [
       "        math score  reading score  writing score\n",
       "count  1115.000000    1115.000000    1115.000000\n",
       "mean     66.155157      69.268161      68.143498\n",
       "std      15.150892      14.639069      15.078461\n",
       "min       0.000000      17.000000      10.000000\n",
       "25%      57.000000      59.000000      58.000000\n",
       "50%      66.000000      70.000000      69.000000\n",
       "75%      77.000000      80.000000      78.000000\n",
       "max     100.000000     100.000000     100.000000"
      ]
     },
     "execution_count": 33,
     "metadata": {},
     "output_type": "execute_result"
    }
   ],
   "source": [
    "sp_data[['math score','reading score','writing score']].describe()"
   ]
  },
  {
   "cell_type": "code",
   "execution_count": 35,
   "metadata": {},
   "outputs": [],
   "source": [
    "sp_data['gender'].loc[sp_data['gender'] == 'male'] = 1\n",
    "sp_data['gender'].loc[sp_data['gender'] == 'female'] = 0"
   ]
  },
  {
   "cell_type": "code",
   "execution_count": 36,
   "metadata": {},
   "outputs": [],
   "source": [
    "sp_data['race/ethnicity'].loc[sp_data['race/ethnicity'] == 'group A'] = 1\n",
    "sp_data['race/ethnicity'].loc[sp_data['race/ethnicity'] == 'group B'] = 2\n",
    "sp_data['race/ethnicity'].loc[sp_data['race/ethnicity'] == 'group C'] = 3\n",
    "sp_data['race/ethnicity'].loc[sp_data['race/ethnicity'] == 'group D'] = 4\n",
    "sp_data['race/ethnicity'].loc[sp_data['race/ethnicity'] == 'group E'] = 5"
   ]
  },
  {
   "cell_type": "code",
   "execution_count": 37,
   "metadata": {},
   "outputs": [],
   "source": [
    "# sp_data['lunch'].loc[sp_data['lunch'] == 'standard'] = 1\n",
    "# sp_data['lunch'].loc[sp_data['lunch'] == 'free/reduced'] = 0\n",
    "\n",
    "\n",
    "# MData[\"test preparation course\"]=MData[\"test preparation course\"].replace({\"none\":0,\"completed\":1})\n",
    "\n",
    "sp_data['lunch'] = sp_data['lunch'].replace({'standard':1,'free/reduced':0})"
   ]
  },
  {
   "cell_type": "code",
   "execution_count": 38,
   "metadata": {},
   "outputs": [],
   "source": [
    "sp_data['test preparation course'].loc[sp_data['test preparation course'] == 'none'] = 0\n",
    "sp_data['test preparation course'].loc[sp_data['test preparation course'] == 'completed'] = 1"
   ]
  },
  {
   "cell_type": "code",
   "execution_count": 39,
   "metadata": {},
   "outputs": [],
   "source": [
    "sp_data['parental level of education'].loc[sp_data['parental level of education'] == 'some high school'] = 1\n",
    "sp_data['parental level of education'].loc[sp_data['parental level of education'] == 'high school'] = 2\n",
    "sp_data['parental level of education'].loc[sp_data['parental level of education'] == 'associate\\'s degree'] = 3\n",
    "sp_data['parental level of education'].loc[sp_data['parental level of education'] == 'some college'] = 4\n",
    "sp_data['parental level of education'].loc[sp_data['parental level of education'] == 'bachelor\\'s degree'] = 5\n",
    "sp_data['parental level of education'].loc[sp_data['parental level of education'] == 'master\\'s degree'] = 6"
   ]
  },
  {
   "cell_type": "code",
   "execution_count": 48,
   "metadata": {},
   "outputs": [
    {
     "data": {
      "text/html": [
       "<div>\n",
       "<style scoped>\n",
       "    .dataframe tbody tr th:only-of-type {\n",
       "        vertical-align: middle;\n",
       "    }\n",
       "\n",
       "    .dataframe tbody tr th {\n",
       "        vertical-align: top;\n",
       "    }\n",
       "\n",
       "    .dataframe thead th {\n",
       "        text-align: right;\n",
       "    }\n",
       "</style>\n",
       "<table border=\"1\" class=\"dataframe\">\n",
       "  <thead>\n",
       "    <tr style=\"text-align: right;\">\n",
       "      <th></th>\n",
       "      <th>gender</th>\n",
       "      <th>race/ethnicity</th>\n",
       "      <th>parental level of education</th>\n",
       "      <th>lunch</th>\n",
       "      <th>test preparation course</th>\n",
       "      <th>math score</th>\n",
       "      <th>reading score</th>\n",
       "      <th>writing score</th>\n",
       "    </tr>\n",
       "  </thead>\n",
       "  <tbody>\n",
       "    <tr>\n",
       "      <th>0</th>\n",
       "      <td>0</td>\n",
       "      <td>2</td>\n",
       "      <td>5</td>\n",
       "      <td>1</td>\n",
       "      <td>0</td>\n",
       "      <td>72</td>\n",
       "      <td>72</td>\n",
       "      <td>74</td>\n",
       "    </tr>\n",
       "    <tr>\n",
       "      <th>1</th>\n",
       "      <td>0</td>\n",
       "      <td>3</td>\n",
       "      <td>4</td>\n",
       "      <td>1</td>\n",
       "      <td>1</td>\n",
       "      <td>69</td>\n",
       "      <td>90</td>\n",
       "      <td>88</td>\n",
       "    </tr>\n",
       "    <tr>\n",
       "      <th>2</th>\n",
       "      <td>0</td>\n",
       "      <td>2</td>\n",
       "      <td>6</td>\n",
       "      <td>1</td>\n",
       "      <td>0</td>\n",
       "      <td>90</td>\n",
       "      <td>95</td>\n",
       "      <td>93</td>\n",
       "    </tr>\n",
       "    <tr>\n",
       "      <th>3</th>\n",
       "      <td>1</td>\n",
       "      <td>1</td>\n",
       "      <td>3</td>\n",
       "      <td>0</td>\n",
       "      <td>0</td>\n",
       "      <td>47</td>\n",
       "      <td>57</td>\n",
       "      <td>44</td>\n",
       "    </tr>\n",
       "    <tr>\n",
       "      <th>4</th>\n",
       "      <td>1</td>\n",
       "      <td>3</td>\n",
       "      <td>4</td>\n",
       "      <td>1</td>\n",
       "      <td>0</td>\n",
       "      <td>76</td>\n",
       "      <td>78</td>\n",
       "      <td>75</td>\n",
       "    </tr>\n",
       "    <tr>\n",
       "      <th>5</th>\n",
       "      <td>0</td>\n",
       "      <td>2</td>\n",
       "      <td>3</td>\n",
       "      <td>1</td>\n",
       "      <td>0</td>\n",
       "      <td>71</td>\n",
       "      <td>83</td>\n",
       "      <td>78</td>\n",
       "    </tr>\n",
       "    <tr>\n",
       "      <th>6</th>\n",
       "      <td>0</td>\n",
       "      <td>2</td>\n",
       "      <td>4</td>\n",
       "      <td>1</td>\n",
       "      <td>1</td>\n",
       "      <td>88</td>\n",
       "      <td>95</td>\n",
       "      <td>92</td>\n",
       "    </tr>\n",
       "    <tr>\n",
       "      <th>7</th>\n",
       "      <td>1</td>\n",
       "      <td>2</td>\n",
       "      <td>4</td>\n",
       "      <td>0</td>\n",
       "      <td>0</td>\n",
       "      <td>40</td>\n",
       "      <td>43</td>\n",
       "      <td>39</td>\n",
       "    </tr>\n",
       "    <tr>\n",
       "      <th>8</th>\n",
       "      <td>1</td>\n",
       "      <td>4</td>\n",
       "      <td>2</td>\n",
       "      <td>0</td>\n",
       "      <td>1</td>\n",
       "      <td>64</td>\n",
       "      <td>64</td>\n",
       "      <td>67</td>\n",
       "    </tr>\n",
       "    <tr>\n",
       "      <th>9</th>\n",
       "      <td>0</td>\n",
       "      <td>2</td>\n",
       "      <td>2</td>\n",
       "      <td>0</td>\n",
       "      <td>0</td>\n",
       "      <td>38</td>\n",
       "      <td>60</td>\n",
       "      <td>50</td>\n",
       "    </tr>\n",
       "    <tr>\n",
       "      <th>10</th>\n",
       "      <td>1</td>\n",
       "      <td>3</td>\n",
       "      <td>3</td>\n",
       "      <td>1</td>\n",
       "      <td>0</td>\n",
       "      <td>58</td>\n",
       "      <td>54</td>\n",
       "      <td>52</td>\n",
       "    </tr>\n",
       "    <tr>\n",
       "      <th>11</th>\n",
       "      <td>1</td>\n",
       "      <td>4</td>\n",
       "      <td>3</td>\n",
       "      <td>1</td>\n",
       "      <td>0</td>\n",
       "      <td>40</td>\n",
       "      <td>52</td>\n",
       "      <td>43</td>\n",
       "    </tr>\n",
       "    <tr>\n",
       "      <th>12</th>\n",
       "      <td>0</td>\n",
       "      <td>2</td>\n",
       "      <td>2</td>\n",
       "      <td>1</td>\n",
       "      <td>0</td>\n",
       "      <td>65</td>\n",
       "      <td>81</td>\n",
       "      <td>73</td>\n",
       "    </tr>\n",
       "    <tr>\n",
       "      <th>13</th>\n",
       "      <td>1</td>\n",
       "      <td>1</td>\n",
       "      <td>4</td>\n",
       "      <td>1</td>\n",
       "      <td>1</td>\n",
       "      <td>78</td>\n",
       "      <td>72</td>\n",
       "      <td>70</td>\n",
       "    </tr>\n",
       "    <tr>\n",
       "      <th>14</th>\n",
       "      <td>0</td>\n",
       "      <td>1</td>\n",
       "      <td>6</td>\n",
       "      <td>1</td>\n",
       "      <td>0</td>\n",
       "      <td>50</td>\n",
       "      <td>53</td>\n",
       "      <td>58</td>\n",
       "    </tr>\n",
       "    <tr>\n",
       "      <th>15</th>\n",
       "      <td>0</td>\n",
       "      <td>3</td>\n",
       "      <td>1</td>\n",
       "      <td>1</td>\n",
       "      <td>0</td>\n",
       "      <td>69</td>\n",
       "      <td>75</td>\n",
       "      <td>78</td>\n",
       "    </tr>\n",
       "    <tr>\n",
       "      <th>16</th>\n",
       "      <td>1</td>\n",
       "      <td>3</td>\n",
       "      <td>2</td>\n",
       "      <td>1</td>\n",
       "      <td>0</td>\n",
       "      <td>88</td>\n",
       "      <td>89</td>\n",
       "      <td>86</td>\n",
       "    </tr>\n",
       "    <tr>\n",
       "      <th>17</th>\n",
       "      <td>0</td>\n",
       "      <td>2</td>\n",
       "      <td>1</td>\n",
       "      <td>0</td>\n",
       "      <td>0</td>\n",
       "      <td>18</td>\n",
       "      <td>32</td>\n",
       "      <td>28</td>\n",
       "    </tr>\n",
       "    <tr>\n",
       "      <th>18</th>\n",
       "      <td>1</td>\n",
       "      <td>3</td>\n",
       "      <td>6</td>\n",
       "      <td>0</td>\n",
       "      <td>1</td>\n",
       "      <td>46</td>\n",
       "      <td>42</td>\n",
       "      <td>46</td>\n",
       "    </tr>\n",
       "    <tr>\n",
       "      <th>19</th>\n",
       "      <td>0</td>\n",
       "      <td>3</td>\n",
       "      <td>3</td>\n",
       "      <td>0</td>\n",
       "      <td>0</td>\n",
       "      <td>54</td>\n",
       "      <td>58</td>\n",
       "      <td>61</td>\n",
       "    </tr>\n",
       "    <tr>\n",
       "      <th>20</th>\n",
       "      <td>1</td>\n",
       "      <td>4</td>\n",
       "      <td>2</td>\n",
       "      <td>1</td>\n",
       "      <td>0</td>\n",
       "      <td>66</td>\n",
       "      <td>69</td>\n",
       "      <td>63</td>\n",
       "    </tr>\n",
       "    <tr>\n",
       "      <th>21</th>\n",
       "      <td>0</td>\n",
       "      <td>2</td>\n",
       "      <td>4</td>\n",
       "      <td>0</td>\n",
       "      <td>1</td>\n",
       "      <td>65</td>\n",
       "      <td>75</td>\n",
       "      <td>70</td>\n",
       "    </tr>\n",
       "    <tr>\n",
       "      <th>22</th>\n",
       "      <td>1</td>\n",
       "      <td>4</td>\n",
       "      <td>4</td>\n",
       "      <td>1</td>\n",
       "      <td>0</td>\n",
       "      <td>44</td>\n",
       "      <td>54</td>\n",
       "      <td>53</td>\n",
       "    </tr>\n",
       "    <tr>\n",
       "      <th>23</th>\n",
       "      <td>0</td>\n",
       "      <td>3</td>\n",
       "      <td>1</td>\n",
       "      <td>1</td>\n",
       "      <td>0</td>\n",
       "      <td>69</td>\n",
       "      <td>73</td>\n",
       "      <td>73</td>\n",
       "    </tr>\n",
       "    <tr>\n",
       "      <th>24</th>\n",
       "      <td>1</td>\n",
       "      <td>4</td>\n",
       "      <td>5</td>\n",
       "      <td>0</td>\n",
       "      <td>1</td>\n",
       "      <td>74</td>\n",
       "      <td>71</td>\n",
       "      <td>80</td>\n",
       "    </tr>\n",
       "    <tr>\n",
       "      <th>25</th>\n",
       "      <td>1</td>\n",
       "      <td>1</td>\n",
       "      <td>6</td>\n",
       "      <td>0</td>\n",
       "      <td>0</td>\n",
       "      <td>73</td>\n",
       "      <td>74</td>\n",
       "      <td>72</td>\n",
       "    </tr>\n",
       "    <tr>\n",
       "      <th>26</th>\n",
       "      <td>1</td>\n",
       "      <td>2</td>\n",
       "      <td>4</td>\n",
       "      <td>1</td>\n",
       "      <td>0</td>\n",
       "      <td>69</td>\n",
       "      <td>54</td>\n",
       "      <td>55</td>\n",
       "    </tr>\n",
       "    <tr>\n",
       "      <th>27</th>\n",
       "      <td>0</td>\n",
       "      <td>3</td>\n",
       "      <td>5</td>\n",
       "      <td>1</td>\n",
       "      <td>0</td>\n",
       "      <td>67</td>\n",
       "      <td>69</td>\n",
       "      <td>75</td>\n",
       "    </tr>\n",
       "    <tr>\n",
       "      <th>28</th>\n",
       "      <td>1</td>\n",
       "      <td>3</td>\n",
       "      <td>2</td>\n",
       "      <td>1</td>\n",
       "      <td>0</td>\n",
       "      <td>70</td>\n",
       "      <td>70</td>\n",
       "      <td>65</td>\n",
       "    </tr>\n",
       "    <tr>\n",
       "      <th>29</th>\n",
       "      <td>0</td>\n",
       "      <td>4</td>\n",
       "      <td>6</td>\n",
       "      <td>1</td>\n",
       "      <td>0</td>\n",
       "      <td>62</td>\n",
       "      <td>70</td>\n",
       "      <td>75</td>\n",
       "    </tr>\n",
       "    <tr>\n",
       "      <th>...</th>\n",
       "      <td>...</td>\n",
       "      <td>...</td>\n",
       "      <td>...</td>\n",
       "      <td>...</td>\n",
       "      <td>...</td>\n",
       "      <td>...</td>\n",
       "      <td>...</td>\n",
       "      <td>...</td>\n",
       "    </tr>\n",
       "    <tr>\n",
       "      <th>1085</th>\n",
       "      <td>1</td>\n",
       "      <td>4</td>\n",
       "      <td>1</td>\n",
       "      <td>0</td>\n",
       "      <td>1</td>\n",
       "      <td>80</td>\n",
       "      <td>79</td>\n",
       "      <td>79</td>\n",
       "    </tr>\n",
       "    <tr>\n",
       "      <th>1086</th>\n",
       "      <td>1</td>\n",
       "      <td>3</td>\n",
       "      <td>4</td>\n",
       "      <td>0</td>\n",
       "      <td>0</td>\n",
       "      <td>35</td>\n",
       "      <td>28</td>\n",
       "      <td>27</td>\n",
       "    </tr>\n",
       "    <tr>\n",
       "      <th>1087</th>\n",
       "      <td>0</td>\n",
       "      <td>3</td>\n",
       "      <td>2</td>\n",
       "      <td>0</td>\n",
       "      <td>0</td>\n",
       "      <td>42</td>\n",
       "      <td>62</td>\n",
       "      <td>60</td>\n",
       "    </tr>\n",
       "    <tr>\n",
       "      <th>1088</th>\n",
       "      <td>1</td>\n",
       "      <td>3</td>\n",
       "      <td>3</td>\n",
       "      <td>0</td>\n",
       "      <td>1</td>\n",
       "      <td>60</td>\n",
       "      <td>51</td>\n",
       "      <td>56</td>\n",
       "    </tr>\n",
       "    <tr>\n",
       "      <th>1089</th>\n",
       "      <td>1</td>\n",
       "      <td>5</td>\n",
       "      <td>2</td>\n",
       "      <td>1</td>\n",
       "      <td>1</td>\n",
       "      <td>87</td>\n",
       "      <td>91</td>\n",
       "      <td>81</td>\n",
       "    </tr>\n",
       "    <tr>\n",
       "      <th>1090</th>\n",
       "      <td>1</td>\n",
       "      <td>2</td>\n",
       "      <td>1</td>\n",
       "      <td>1</td>\n",
       "      <td>1</td>\n",
       "      <td>84</td>\n",
       "      <td>83</td>\n",
       "      <td>75</td>\n",
       "    </tr>\n",
       "    <tr>\n",
       "      <th>1091</th>\n",
       "      <td>0</td>\n",
       "      <td>5</td>\n",
       "      <td>3</td>\n",
       "      <td>0</td>\n",
       "      <td>1</td>\n",
       "      <td>83</td>\n",
       "      <td>86</td>\n",
       "      <td>88</td>\n",
       "    </tr>\n",
       "    <tr>\n",
       "      <th>1092</th>\n",
       "      <td>0</td>\n",
       "      <td>3</td>\n",
       "      <td>2</td>\n",
       "      <td>0</td>\n",
       "      <td>0</td>\n",
       "      <td>34</td>\n",
       "      <td>42</td>\n",
       "      <td>39</td>\n",
       "    </tr>\n",
       "    <tr>\n",
       "      <th>1093</th>\n",
       "      <td>1</td>\n",
       "      <td>2</td>\n",
       "      <td>2</td>\n",
       "      <td>0</td>\n",
       "      <td>0</td>\n",
       "      <td>66</td>\n",
       "      <td>77</td>\n",
       "      <td>70</td>\n",
       "    </tr>\n",
       "    <tr>\n",
       "      <th>1094</th>\n",
       "      <td>1</td>\n",
       "      <td>2</td>\n",
       "      <td>1</td>\n",
       "      <td>1</td>\n",
       "      <td>1</td>\n",
       "      <td>61</td>\n",
       "      <td>56</td>\n",
       "      <td>56</td>\n",
       "    </tr>\n",
       "    <tr>\n",
       "      <th>1095</th>\n",
       "      <td>0</td>\n",
       "      <td>4</td>\n",
       "      <td>2</td>\n",
       "      <td>1</td>\n",
       "      <td>1</td>\n",
       "      <td>56</td>\n",
       "      <td>68</td>\n",
       "      <td>74</td>\n",
       "    </tr>\n",
       "    <tr>\n",
       "      <th>1096</th>\n",
       "      <td>1</td>\n",
       "      <td>2</td>\n",
       "      <td>3</td>\n",
       "      <td>1</td>\n",
       "      <td>0</td>\n",
       "      <td>87</td>\n",
       "      <td>85</td>\n",
       "      <td>73</td>\n",
       "    </tr>\n",
       "    <tr>\n",
       "      <th>1097</th>\n",
       "      <td>0</td>\n",
       "      <td>3</td>\n",
       "      <td>1</td>\n",
       "      <td>0</td>\n",
       "      <td>0</td>\n",
       "      <td>55</td>\n",
       "      <td>65</td>\n",
       "      <td>62</td>\n",
       "    </tr>\n",
       "    <tr>\n",
       "      <th>1098</th>\n",
       "      <td>1</td>\n",
       "      <td>4</td>\n",
       "      <td>1</td>\n",
       "      <td>1</td>\n",
       "      <td>0</td>\n",
       "      <td>86</td>\n",
       "      <td>80</td>\n",
       "      <td>75</td>\n",
       "    </tr>\n",
       "    <tr>\n",
       "      <th>1099</th>\n",
       "      <td>0</td>\n",
       "      <td>2</td>\n",
       "      <td>3</td>\n",
       "      <td>1</td>\n",
       "      <td>1</td>\n",
       "      <td>52</td>\n",
       "      <td>66</td>\n",
       "      <td>73</td>\n",
       "    </tr>\n",
       "    <tr>\n",
       "      <th>1100</th>\n",
       "      <td>0</td>\n",
       "      <td>5</td>\n",
       "      <td>6</td>\n",
       "      <td>0</td>\n",
       "      <td>0</td>\n",
       "      <td>45</td>\n",
       "      <td>56</td>\n",
       "      <td>54</td>\n",
       "    </tr>\n",
       "    <tr>\n",
       "      <th>1101</th>\n",
       "      <td>0</td>\n",
       "      <td>3</td>\n",
       "      <td>4</td>\n",
       "      <td>1</td>\n",
       "      <td>0</td>\n",
       "      <td>72</td>\n",
       "      <td>72</td>\n",
       "      <td>71</td>\n",
       "    </tr>\n",
       "    <tr>\n",
       "      <th>1102</th>\n",
       "      <td>1</td>\n",
       "      <td>4</td>\n",
       "      <td>2</td>\n",
       "      <td>1</td>\n",
       "      <td>0</td>\n",
       "      <td>57</td>\n",
       "      <td>50</td>\n",
       "      <td>54</td>\n",
       "    </tr>\n",
       "    <tr>\n",
       "      <th>1103</th>\n",
       "      <td>1</td>\n",
       "      <td>1</td>\n",
       "      <td>1</td>\n",
       "      <td>0</td>\n",
       "      <td>0</td>\n",
       "      <td>68</td>\n",
       "      <td>72</td>\n",
       "      <td>64</td>\n",
       "    </tr>\n",
       "    <tr>\n",
       "      <th>1104</th>\n",
       "      <td>0</td>\n",
       "      <td>3</td>\n",
       "      <td>4</td>\n",
       "      <td>1</td>\n",
       "      <td>1</td>\n",
       "      <td>88</td>\n",
       "      <td>95</td>\n",
       "      <td>94</td>\n",
       "    </tr>\n",
       "    <tr>\n",
       "      <th>1105</th>\n",
       "      <td>1</td>\n",
       "      <td>4</td>\n",
       "      <td>4</td>\n",
       "      <td>1</td>\n",
       "      <td>0</td>\n",
       "      <td>76</td>\n",
       "      <td>64</td>\n",
       "      <td>66</td>\n",
       "    </tr>\n",
       "    <tr>\n",
       "      <th>1106</th>\n",
       "      <td>1</td>\n",
       "      <td>3</td>\n",
       "      <td>3</td>\n",
       "      <td>1</td>\n",
       "      <td>0</td>\n",
       "      <td>46</td>\n",
       "      <td>43</td>\n",
       "      <td>42</td>\n",
       "    </tr>\n",
       "    <tr>\n",
       "      <th>1107</th>\n",
       "      <td>0</td>\n",
       "      <td>2</td>\n",
       "      <td>5</td>\n",
       "      <td>1</td>\n",
       "      <td>0</td>\n",
       "      <td>67</td>\n",
       "      <td>86</td>\n",
       "      <td>83</td>\n",
       "    </tr>\n",
       "    <tr>\n",
       "      <th>1108</th>\n",
       "      <td>1</td>\n",
       "      <td>5</td>\n",
       "      <td>1</td>\n",
       "      <td>1</td>\n",
       "      <td>0</td>\n",
       "      <td>92</td>\n",
       "      <td>87</td>\n",
       "      <td>78</td>\n",
       "    </tr>\n",
       "    <tr>\n",
       "      <th>1109</th>\n",
       "      <td>1</td>\n",
       "      <td>3</td>\n",
       "      <td>5</td>\n",
       "      <td>1</td>\n",
       "      <td>1</td>\n",
       "      <td>83</td>\n",
       "      <td>82</td>\n",
       "      <td>84</td>\n",
       "    </tr>\n",
       "    <tr>\n",
       "      <th>1110</th>\n",
       "      <td>1</td>\n",
       "      <td>4</td>\n",
       "      <td>3</td>\n",
       "      <td>1</td>\n",
       "      <td>0</td>\n",
       "      <td>80</td>\n",
       "      <td>75</td>\n",
       "      <td>77</td>\n",
       "    </tr>\n",
       "    <tr>\n",
       "      <th>1111</th>\n",
       "      <td>1</td>\n",
       "      <td>4</td>\n",
       "      <td>5</td>\n",
       "      <td>0</td>\n",
       "      <td>0</td>\n",
       "      <td>63</td>\n",
       "      <td>66</td>\n",
       "      <td>67</td>\n",
       "    </tr>\n",
       "    <tr>\n",
       "      <th>1112</th>\n",
       "      <td>0</td>\n",
       "      <td>4</td>\n",
       "      <td>1</td>\n",
       "      <td>1</td>\n",
       "      <td>1</td>\n",
       "      <td>64</td>\n",
       "      <td>60</td>\n",
       "      <td>74</td>\n",
       "    </tr>\n",
       "    <tr>\n",
       "      <th>1113</th>\n",
       "      <td>1</td>\n",
       "      <td>2</td>\n",
       "      <td>4</td>\n",
       "      <td>1</td>\n",
       "      <td>0</td>\n",
       "      <td>54</td>\n",
       "      <td>52</td>\n",
       "      <td>51</td>\n",
       "    </tr>\n",
       "    <tr>\n",
       "      <th>1114</th>\n",
       "      <td>1</td>\n",
       "      <td>3</td>\n",
       "      <td>3</td>\n",
       "      <td>1</td>\n",
       "      <td>0</td>\n",
       "      <td>84</td>\n",
       "      <td>80</td>\n",
       "      <td>80</td>\n",
       "    </tr>\n",
       "  </tbody>\n",
       "</table>\n",
       "<p>1115 rows × 8 columns</p>\n",
       "</div>"
      ],
      "text/plain": [
       "      gender  race/ethnicity  parental level of education  lunch  \\\n",
       "0          0               2                            5      1   \n",
       "1          0               3                            4      1   \n",
       "2          0               2                            6      1   \n",
       "3          1               1                            3      0   \n",
       "4          1               3                            4      1   \n",
       "5          0               2                            3      1   \n",
       "6          0               2                            4      1   \n",
       "7          1               2                            4      0   \n",
       "8          1               4                            2      0   \n",
       "9          0               2                            2      0   \n",
       "10         1               3                            3      1   \n",
       "11         1               4                            3      1   \n",
       "12         0               2                            2      1   \n",
       "13         1               1                            4      1   \n",
       "14         0               1                            6      1   \n",
       "15         0               3                            1      1   \n",
       "16         1               3                            2      1   \n",
       "17         0               2                            1      0   \n",
       "18         1               3                            6      0   \n",
       "19         0               3                            3      0   \n",
       "20         1               4                            2      1   \n",
       "21         0               2                            4      0   \n",
       "22         1               4                            4      1   \n",
       "23         0               3                            1      1   \n",
       "24         1               4                            5      0   \n",
       "25         1               1                            6      0   \n",
       "26         1               2                            4      1   \n",
       "27         0               3                            5      1   \n",
       "28         1               3                            2      1   \n",
       "29         0               4                            6      1   \n",
       "...      ...             ...                          ...    ...   \n",
       "1085       1               4                            1      0   \n",
       "1086       1               3                            4      0   \n",
       "1087       0               3                            2      0   \n",
       "1088       1               3                            3      0   \n",
       "1089       1               5                            2      1   \n",
       "1090       1               2                            1      1   \n",
       "1091       0               5                            3      0   \n",
       "1092       0               3                            2      0   \n",
       "1093       1               2                            2      0   \n",
       "1094       1               2                            1      1   \n",
       "1095       0               4                            2      1   \n",
       "1096       1               2                            3      1   \n",
       "1097       0               3                            1      0   \n",
       "1098       1               4                            1      1   \n",
       "1099       0               2                            3      1   \n",
       "1100       0               5                            6      0   \n",
       "1101       0               3                            4      1   \n",
       "1102       1               4                            2      1   \n",
       "1103       1               1                            1      0   \n",
       "1104       0               3                            4      1   \n",
       "1105       1               4                            4      1   \n",
       "1106       1               3                            3      1   \n",
       "1107       0               2                            5      1   \n",
       "1108       1               5                            1      1   \n",
       "1109       1               3                            5      1   \n",
       "1110       1               4                            3      1   \n",
       "1111       1               4                            5      0   \n",
       "1112       0               4                            1      1   \n",
       "1113       1               2                            4      1   \n",
       "1114       1               3                            3      1   \n",
       "\n",
       "      test preparation course  math score  reading score  writing score  \n",
       "0                           0          72             72             74  \n",
       "1                           1          69             90             88  \n",
       "2                           0          90             95             93  \n",
       "3                           0          47             57             44  \n",
       "4                           0          76             78             75  \n",
       "5                           0          71             83             78  \n",
       "6                           1          88             95             92  \n",
       "7                           0          40             43             39  \n",
       "8                           1          64             64             67  \n",
       "9                           0          38             60             50  \n",
       "10                          0          58             54             52  \n",
       "11                          0          40             52             43  \n",
       "12                          0          65             81             73  \n",
       "13                          1          78             72             70  \n",
       "14                          0          50             53             58  \n",
       "15                          0          69             75             78  \n",
       "16                          0          88             89             86  \n",
       "17                          0          18             32             28  \n",
       "18                          1          46             42             46  \n",
       "19                          0          54             58             61  \n",
       "20                          0          66             69             63  \n",
       "21                          1          65             75             70  \n",
       "22                          0          44             54             53  \n",
       "23                          0          69             73             73  \n",
       "24                          1          74             71             80  \n",
       "25                          0          73             74             72  \n",
       "26                          0          69             54             55  \n",
       "27                          0          67             69             75  \n",
       "28                          0          70             70             65  \n",
       "29                          0          62             70             75  \n",
       "...                       ...         ...            ...            ...  \n",
       "1085                        1          80             79             79  \n",
       "1086                        0          35             28             27  \n",
       "1087                        0          42             62             60  \n",
       "1088                        1          60             51             56  \n",
       "1089                        1          87             91             81  \n",
       "1090                        1          84             83             75  \n",
       "1091                        1          83             86             88  \n",
       "1092                        0          34             42             39  \n",
       "1093                        0          66             77             70  \n",
       "1094                        1          61             56             56  \n",
       "1095                        1          56             68             74  \n",
       "1096                        0          87             85             73  \n",
       "1097                        0          55             65             62  \n",
       "1098                        0          86             80             75  \n",
       "1099                        1          52             66             73  \n",
       "1100                        0          45             56             54  \n",
       "1101                        0          72             72             71  \n",
       "1102                        0          57             50             54  \n",
       "1103                        0          68             72             64  \n",
       "1104                        1          88             95             94  \n",
       "1105                        0          76             64             66  \n",
       "1106                        0          46             43             42  \n",
       "1107                        0          67             86             83  \n",
       "1108                        0          92             87             78  \n",
       "1109                        1          83             82             84  \n",
       "1110                        0          80             75             77  \n",
       "1111                        0          63             66             67  \n",
       "1112                        1          64             60             74  \n",
       "1113                        0          54             52             51  \n",
       "1114                        0          84             80             80  \n",
       "\n",
       "[1115 rows x 8 columns]"
      ]
     },
     "execution_count": 48,
     "metadata": {},
     "output_type": "execute_result"
    }
   ],
   "source": [
    "sp_data.drop(['Total_Marks', 'Percentage', 'Grade', 'Math_PassStatus', 'Reading_PassStatus', 'Writing_PassStatus', 'OverAll_PassStatus'], axis=1)"
   ]
  },
  {
   "cell_type": "code",
   "execution_count": 52,
   "metadata": {},
   "outputs": [
    {
     "name": "stdout",
     "output_type": "stream",
     "text": [
      "averages: \n",
      "        math score  reading score  writing score\n",
      "gender                                          \n",
      "0        63.444251      72.601045      72.397213\n",
      "1        69.031423      65.731978      63.630314\n"
     ]
    },
    {
     "data": {
      "image/png": "[encoded data removed]",
      "text/plain": [
       "<Figure size 864x432 with 3 Axes>"
      ]
     },
     "metadata": {
      "needs_background": "light"
     },
     "output_type": "display_data"
    }
   ],
   "source": [
    "sp_score_data = sp_data[['gender','math score','reading score','writing score']].groupby('gender',as_index=True).mean()\n",
    "print ('averages: \\n'+str(sp_score_data.head()))\n",
    "fig, axs = plt.subplots(ncols=3,figsize=(12,6))\n",
    "plt.subplots_adjust(left=None, bottom=None, right=None, top=None, wspace=1.5, hspace=None);\n",
    "sns.boxplot(x=\"gender\", y=\"math score\", data=sp_data, ax=axs[0],showmeans=True);\n",
    "sns.boxplot(x=\"gender\", y=\"reading score\", data=sp_data, ax=axs[1],showmeans=True);\n",
    "sns.boxplot(x=\"gender\", y=\"writing score\", data=sp_data, ax=axs[2],showmeans=True);"
   ]
  },
  {
   "cell_type": "code",
   "execution_count": 53,
   "metadata": {},
   "outputs": [
    {
     "data": {
      "image/png": "[encoded data removed]",
      "text/plain": [
       "<Figure size 432x288 with 1 Axes>"
      ]
     },
     "metadata": {
      "needs_background": "light"
     },
     "output_type": "display_data"
    }
   ],
   "source": [
    "sns.boxplot(x=\"gender\", y=\"math score\", data=sp_data, showmeans=True);"
   ]
  },
  {
   "cell_type": "code",
   "execution_count": 54,
   "metadata": {},
   "outputs": [
    {
     "data": {
      "image/png": "[encoded data removed]",
      "text/plain": [
       "<Figure size 864x432 with 3 Axes>"
      ]
     },
     "metadata": {
      "needs_background": "light"
     },
     "output_type": "display_data"
    }
   ],
   "source": [
    "#Grouping by free lunch\n",
    "fig, axs = plt.subplots(ncols=3,figsize=(12,6))\n",
    "plt.subplots_adjust(left=None, bottom=None, right=None, top=None, wspace=1.5, hspace=None);\n",
    "sns.boxplot(x=\"lunch\", y=\"math score\", data=sp_data, ax=axs[0],showmeans=True);\n",
    "sns.boxplot(x=\"lunch\", y=\"reading score\", data=sp_data, ax=axs[1],showmeans=True);\n",
    "sns.boxplot(x=\"lunch\", y=\"writing score\", data=sp_data, ax=axs[2],showmeans=True);"
   ]
  },
  {
   "cell_type": "code",
   "execution_count": 55,
   "metadata": {},
   "outputs": [
    {
     "data": {
      "image/png": "[encoded data removed]",
      "text/plain": [
       "<Figure size 864x432 with 3 Axes>"
      ]
     },
     "metadata": {
      "needs_background": "light"
     },
     "output_type": "display_data"
    }
   ],
   "source": [
    "fig, axs = plt.subplots(ncols=3,figsize=(12,6))\n",
    "plt.subplots_adjust(left=None, bottom=None, right=None, top=None, wspace=1.5, hspace=None);\n",
    "sns.boxplot(x=\"race/ethnicity\", y=\"math score\", data=sp_data, ax=axs[0],showmeans=True);\n",
    "sns.boxplot(x=\"race/ethnicity\", y=\"reading score\", data=sp_data, ax=axs[1],showmeans=True);\n",
    "sns.boxplot(x=\"race/ethnicity\", y=\"writing score\", data=sp_data, ax=axs[2],showmeans=True);"
   ]
  },
  {
   "cell_type": "code",
   "execution_count": 56,
   "metadata": {},
   "outputs": [
    {
     "data": {
      "image/png": "[encoded data removed]",
      "text/plain": [
       "<Figure size 864x432 with 3 Axes>"
      ]
     },
     "metadata": {
      "needs_background": "light"
     },
     "output_type": "display_data"
    }
   ],
   "source": [
    "#grouping by parental education levels \n",
    "fig, axs = plt.subplots(ncols=3,figsize=(12,6))\n",
    "plt.subplots_adjust(left=None, bottom=None, right=None, top=None, wspace=1.5, hspace=None);\n",
    "sns.boxplot(x=\"parental level of education\", y=\"math score\", data=sp_data, ax=axs[0],showmeans=True);\n",
    "sns.boxplot(x=\"parental level of education\", y=\"reading score\", data=sp_data, ax=axs[1],showmeans=True);\n",
    "sns.boxplot(x=\"parental level of education\", y=\"writing score\", data=sp_data, ax=axs[2],showmeans=True);"
   ]
  },
  {
   "cell_type": "code",
   "execution_count": 57,
   "metadata": {},
   "outputs": [
    {
     "data": {
      "image/png": "[encoded data removed]",
      "text/plain": [
       "<Figure size 864x432 with 3 Axes>"
      ]
     },
     "metadata": {
      "needs_background": "light"
     },
     "output_type": "display_data"
    }
   ],
   "source": [
    "#By test prep class\n",
    "fig, axs = plt.subplots(ncols=3,figsize=(12,6))\n",
    "plt.subplots_adjust(left=None, bottom=None, right=None, top=None, wspace=1.5, hspace=None);\n",
    "sns.boxplot(x=\"test preparation course\", y=\"math score\", data=sp_data, ax=axs[0],showmeans=True);\n",
    "sns.boxplot(x=\"test preparation course\", y=\"reading score\", data=sp_data, ax=axs[1],showmeans=True);\n",
    "sns.boxplot(x=\"test preparation course\", y=\"writing score\", data=sp_data, ax=axs[2],showmeans=True);"
   ]
  },
  {
   "cell_type": "code",
   "execution_count": 58,
   "metadata": {},
   "outputs": [
    {
     "data": {
      "image/png": "[encoded data removed]",
      "text/plain": [
       "<Figure size 864x432 with 3 Axes>"
      ]
     },
     "metadata": {
      "needs_background": "light"
     },
     "output_type": "display_data"
    }
   ],
   "source": [
    "#test prep and lunch\n",
    "reduced_lunch = sp_data.loc[sp_data['lunch'] == 0]\n",
    "fig, axs = plt.subplots(ncols=3,figsize=(12,6))\n",
    "plt.subplots_adjust(left=None, bottom=None, right=None, top=None, wspace=1.5, hspace=None);\n",
    "sns.boxplot(x=\"test preparation course\", y=\"math score\", data=reduced_lunch, ax=axs[0],showmeans=True);\n",
    "sns.boxplot(x=\"test preparation course\", y=\"reading score\", data=reduced_lunch, ax=axs[1],showmeans=True);\n",
    "sns.boxplot(x=\"test preparation course\", y=\"writing score\", data=reduced_lunch, ax=axs[2],showmeans=True);"
   ]
  },
  {
   "cell_type": "code",
   "execution_count": null,
   "metadata": {},
   "outputs": [],
   "source": [
    "#Conclusion\n",
    "#We see that certain demographic and economic variables like gender, \n",
    "#parent's education, and a proxy for household income has an affect on test scores."
   ]
  }
 ],
 "metadata": {
  "kernelspec": {
   "display_name": "Python 3",
   "language": "python",
   "name": "python3"
  },
  "language_info": {
   "codemirror_mode": {
    "name": "ipython",
    "version": 3
   },
   "file_extension": ".py",
   "mimetype": "text/x-python",
   "name": "python",
   "nbconvert_exporter": "python",
   "pygments_lexer": "ipython3",
   "version": "3.7.3"
  }
 },
 "nbformat": 4,
 "nbformat_minor": 2
}
